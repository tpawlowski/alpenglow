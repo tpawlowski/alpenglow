{
 "cells": [
  {
   "cell_type": "code",
   "execution_count": 1,
   "metadata": {},
   "outputs": [],
   "source": [
    "import configparser"
   ]
  },
  {
   "cell_type": "code",
   "execution_count": 2,
   "metadata": {},
   "outputs": [],
   "source": [
    "import os.path as op"
   ]
  },
  {
   "cell_type": "code",
   "execution_count": 3,
   "metadata": {},
   "outputs": [],
   "source": [
    "CP = configparser.ConfigParser()\n",
    "CP.read_file(open(op.join(op.expanduser('~'), '.aws', 'credentials')))\n",
    "CP.sections()\n",
    "ak = CP.get('default', 'AWS_ACCESS_KEY_ID')\n",
    "sk = CP.get('default', 'AWS_SECRET_ACCESS_KEY')"
   ]
  },
  {
   "cell_type": "code",
   "execution_count": 4,
   "metadata": {},
   "outputs": [],
   "source": [
    "import numpy as np\n",
    "import cottoncandy as cc"
   ]
  },
  {
   "cell_type": "code",
   "execution_count": 5,
   "metadata": {},
   "outputs": [],
   "source": [
    "from tempfile import mkdtemp\n",
    "import os.path as path"
   ]
  },
  {
   "cell_type": "code",
   "execution_count": 6,
   "metadata": {},
   "outputs": [],
   "source": [
    "import sys \n",
    "sys.path.append('..')\n",
    "import alpenglow.files as af\n",
    "import matplotlib.pyplot as plt\n",
    "%matplotlib inline\n",
    "import skimage.external.tifffile as tiff\n",
    "from skimage import transform\n",
    "import numpy as np\n",
    "import shutil as sh\n",
    "import os\n",
    "import boto3\n",
    "from scipy import optimize\n",
    "from imp import reload\n",
    "import alpenglow.stitching as ast\n",
    "import alpenglow.files as af"
   ]
  },
  {
   "cell_type": "code",
   "execution_count": 7,
   "metadata": {},
   "outputs": [],
   "source": [
    "import skimage\n",
    "from skimage.feature import register_translation\n",
    "from skimage import img_as_float\n",
    "from skimage import exposure\n",
    "from skimage.io import imread_collection, ImageCollection\n",
    "import skimage.external.tifffile as tif"
   ]
  },
  {
   "cell_type": "code",
   "execution_count": 8,
   "metadata": {},
   "outputs": [],
   "source": [
    "from io import BytesIO"
   ]
  },
  {
   "cell_type": "code",
   "execution_count": null,
   "metadata": {},
   "outputs": [],
   "source": []
  },
  {
   "cell_type": "code",
   "execution_count": 9,
   "metadata": {},
   "outputs": [],
   "source": [
    "import time"
   ]
  },
  {
   "cell_type": "code",
   "execution_count": 10,
   "metadata": {},
   "outputs": [],
   "source": [
    "file_list = ['/phantom_2_7_2017/%06d/%06d_%05d.tif'%(s, s, i) for s in range(3) for i in range(1, 1801) ]"
   ]
  },
  {
   "cell_type": "code",
   "execution_count": 11,
   "metadata": {},
   "outputs": [],
   "source": [
    "f = file_list[0]"
   ]
  },
  {
   "cell_type": "code",
   "execution_count": 12,
   "metadata": {},
   "outputs": [],
   "source": [
    "import tempfile"
   ]
  },
  {
   "cell_type": "code",
   "execution_count": 13,
   "metadata": {},
   "outputs": [],
   "source": [
    "n_files = len(file_list)"
   ]
  },
  {
   "cell_type": "code",
   "execution_count": 14,
   "metadata": {},
   "outputs": [],
   "source": [
    "files_per_strip = 1800\n",
    "n_strips = 3"
   ]
  },
  {
   "cell_type": "code",
   "execution_count": 15,
   "metadata": {},
   "outputs": [],
   "source": [
    "file_list = ['/phantom_2_7_2017/%06d/%06d_%05d.tif'%(s, s, i) for s in range(3) for i in range(1, 1801) ]"
   ]
  },
  {
   "cell_type": "code",
   "execution_count": 16,
   "metadata": {},
   "outputs": [
    {
     "data": {
      "text/plain": [
       "(['/phantom_2_7_2017/000000/000000_00001.tif',\n",
       "  '/phantom_2_7_2017/000000/000000_00002.tif',\n",
       "  '/phantom_2_7_2017/000000/000000_00003.tif',\n",
       "  '/phantom_2_7_2017/000000/000000_00004.tif',\n",
       "  '/phantom_2_7_2017/000000/000000_00005.tif',\n",
       "  '/phantom_2_7_2017/000000/000000_00006.tif',\n",
       "  '/phantom_2_7_2017/000000/000000_00007.tif',\n",
       "  '/phantom_2_7_2017/000000/000000_00008.tif',\n",
       "  '/phantom_2_7_2017/000000/000000_00009.tif',\n",
       "  '/phantom_2_7_2017/000000/000000_00010.tif'],\n",
       " ['/phantom_2_7_2017/000000/000000_01800.tif',\n",
       "  '/phantom_2_7_2017/000001/000001_00001.tif',\n",
       "  '/phantom_2_7_2017/000001/000001_00002.tif',\n",
       "  '/phantom_2_7_2017/000001/000001_00003.tif',\n",
       "  '/phantom_2_7_2017/000001/000001_00004.tif',\n",
       "  '/phantom_2_7_2017/000001/000001_00005.tif',\n",
       "  '/phantom_2_7_2017/000001/000001_00006.tif',\n",
       "  '/phantom_2_7_2017/000001/000001_00007.tif',\n",
       "  '/phantom_2_7_2017/000001/000001_00008.tif',\n",
       "  '/phantom_2_7_2017/000001/000001_00009.tif',\n",
       "  '/phantom_2_7_2017/000001/000001_00010.tif'])"
      ]
     },
     "execution_count": 16,
     "metadata": {},
     "output_type": "execute_result"
    }
   ],
   "source": [
    "file_list[:10], file_list[1799:1810]"
   ]
  },
  {
   "cell_type": "code",
   "execution_count": null,
   "metadata": {},
   "outputs": [
    {
     "name": "stdout",
     "output_type": "stream",
     "text": [
      "8.852952003479004\n"
     ]
    }
   ],
   "source": [
    "t1 = time.time()\n",
    "cci = cc.get_interface('alpenglowoptics', \n",
    "                       ACCESS_KEY=ak, \n",
    "                       SECRET_KEY=sk,\n",
    "                       endpoint_url='https://s3.amazonaws.com',\n",
    "                       verbose=False)\n",
    "\n",
    "sample = af.s3_to_array(file_list[0], cci)\n",
    "print(time.time()-t1)\n",
    "stack = af.read_strip_files(file_list, files_per_strip, n_strips-1, cci, sample.dtype, sample.shape)"
   ]
  },
  {
   "cell_type": "code",
   "execution_count": null,
   "metadata": {},
   "outputs": [],
   "source": [
    "stack.shape"
   ]
  },
  {
   "cell_type": "code",
   "execution_count": null,
   "metadata": {},
   "outputs": [],
   "source": [
    "for ss in range(n_strips-2, 0, -1):\n",
    "    stack = ast.stitch_zstack(\n",
    "        stack, \n",
    "        af.read_strip_files(file_list, files_per_strip, ss, cci, sample.dtype, sample.shape), \n",
    "        nchan=1)\n",
    "\n",
    "t2 = time.time()\n",
    "print(t2-t1)"
   ]
  },
  {
   "cell_type": "code",
   "execution_count": null,
   "metadata": {},
   "outputs": [],
   "source": [
    "plt.matshow(stack[256])"
   ]
  },
  {
   "cell_type": "code",
   "execution_count": null,
   "metadata": {},
   "outputs": [],
   "source": [
    "stack.shape"
   ]
  },
  {
   "cell_type": "code",
   "execution_count": null,
   "metadata": {},
   "outputs": [],
   "source": [
    "plt.matshow(stack[:, :, 900])"
   ]
  },
  {
   "cell_type": "code",
   "execution_count": null,
   "metadata": {},
   "outputs": [],
   "source": [
    "strip = af.read_strip_files(file_list, files_per_strip, n_strips-1, cci, sample.dtype, sample.shape)"
   ]
  },
  {
   "cell_type": "code",
   "execution_count": null,
   "metadata": {},
   "outputs": [],
   "source": []
  }
 ],
 "metadata": {
  "kernelspec": {
   "display_name": "venv",
   "language": "python",
   "name": "venv"
  },
  "language_info": {
   "codemirror_mode": {
    "name": "ipython",
    "version": 3
   },
   "file_extension": ".py",
   "mimetype": "text/x-python",
   "name": "python",
   "nbconvert_exporter": "python",
   "pygments_lexer": "ipython3",
   "version": "3.6.0"
  }
 },
 "nbformat": 4,
 "nbformat_minor": 2
}
