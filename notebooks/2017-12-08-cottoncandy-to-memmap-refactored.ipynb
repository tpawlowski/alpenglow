{
 "cells": [
  {
   "cell_type": "markdown",
   "metadata": {},
   "source": [
    "# Input data\n",
    "## AWS Credentials\n",
    "AWS credentials are by convention stored in `~/.aws/credentials` text file. In this file section `[default]` contains two key-value pairs in format: `key = value`. Values for `aws_access_key_id` and `aws_secret_access_key` are required to connect with s3 storage.\n",
    "\n",
    "Example, minimal `~/.aws/credentials` file looks as follows:\n",
    "```\n",
    "[default]\n",
    "aws_access_key_id = ASDFQWER\n",
    "aws_secret_access_key = abcdefghijk12345678\n",
    "```"
   ]
  },
  {
   "cell_type": "code",
   "execution_count": 1,
   "metadata": {},
   "outputs": [],
   "source": [
    "import configparser\n",
    "import os.path\n",
    "\n",
    "config_parser = configparser.ConfigParser()\n",
    "config_parser.read_file(open(os.path.join(os.path.expanduser('~'), '.aws', 'credentials')))\n",
    "config_parser.sections()\n",
    "\n",
    "aws_access_key_id = config_parser.get('default', 'AWS_ACCESS_KEY_ID')\n",
    "aws_secret_access_key = config_parser.get('default', 'AWS_SECRET_ACCESS_KEY')"
   ]
  },
  {
   "cell_type": "markdown",
   "metadata": {},
   "source": [
    "## S3 connection\n",
    "For accessing input data [cottoncandy](https://github.com/gallantlab/cottoncandy) project is used. It provides a usefull abstraction for storing and accessing numpy data arrays in s3 storage."
   ]
  },
  {
   "cell_type": "code",
   "execution_count": 3,
   "metadata": {},
   "outputs": [],
   "source": [
    "import cottoncandy\n",
    "cci = cottoncandy.get_interface('alpenglowoptics', \n",
    "                                ACCESS_KEY=aws_access_key_id, \n",
    "                                SECRET_KEY=aws_secret_access_key,\n",
    "                                endpoint_url='https://s3.amazonaws.com',\n",
    "                                verbose=False)"
   ]
  },
  {
   "cell_type": "markdown",
   "metadata": {},
   "source": [
    "## Defining source file paths\n",
    "This notebook is ment to run stiching algorithm on an example test case. Following code defines directory structure for input files of this single test case."
   ]
  },
  {
   "cell_type": "code",
   "execution_count": 4,
   "metadata": {},
   "outputs": [],
   "source": [
    "files_per_strip = 1800\n",
    "number_of_strips = 3\n",
    "path_format = '/phantom_2_7_2017/{strip_id:06d}/{strip_id:06d}_{strip_file_id:05d}.tif'\n",
    "\n",
    "source_files = [path_format.format(strip_id=strip_id, strip_file_id=strip_file_id) for strip_id in range(number_of_strips) for strip_file_id in range(1, files_per_strip + 1) ]"
   ]
  },
  {
   "cell_type": "markdown",
   "metadata": {},
   "source": [
    "# Sampling\n",
    "Sampling consists of checking dimensions of images stored in input files and their pixcel type (color depth).  "
   ]
  },
  {
   "cell_type": "code",
   "execution_count": 5,
   "metadata": {},
   "outputs": [],
   "source": [
    "import alpenglow.files as af\n",
    "\n",
    "sample_image = af.s3_to_array(source_files[0], cci)\n",
    "shape = sample_image.shape\n",
    "pixcel_type = sample_image.dtype"
   ]
  },
  {
   "cell_type": "markdown",
   "metadata": {},
   "source": [
    "# Processing\n",
    "Processing is simplified. It reads only two first strips and runs one stiching phase."
   ]
  },
  {
   "cell_type": "code",
   "execution_count": 6,
   "metadata": {},
   "outputs": [
    {
     "ename": "NameError",
     "evalue": "name 'ast' is not defined",
     "traceback": [
      "\u001b[0;31m---------------------------------------------------------------------------\u001b[0m",
      "\u001b[0;31mNameError\u001b[0m                                 Traceback (most recent call last)",
      "\u001b[0;32m<ipython-input-6-4a95b24bb094>\u001b[0m in \u001b[0;36m<module>\u001b[0;34m()\u001b[0m\n\u001b[1;32m      2\u001b[0m \u001b[0;32mfor\u001b[0m \u001b[0mss\u001b[0m \u001b[0;32min\u001b[0m \u001b[0mrange\u001b[0m\u001b[0;34m(\u001b[0m\u001b[0mnumber_of_strips\u001b[0m \u001b[0;34m-\u001b[0m \u001b[0;36m2\u001b[0m\u001b[0;34m,\u001b[0m \u001b[0;34m-\u001b[0m\u001b[0;36m1\u001b[0m\u001b[0;34m,\u001b[0m \u001b[0;34m-\u001b[0m\u001b[0;36m1\u001b[0m\u001b[0;34m)\u001b[0m\u001b[0;34m:\u001b[0m\u001b[0;34m\u001b[0m\u001b[0m\n\u001b[1;32m      3\u001b[0m     \u001b[0mstrip\u001b[0m \u001b[0;34m=\u001b[0m \u001b[0maf\u001b[0m\u001b[0;34m.\u001b[0m\u001b[0mread_strip_files\u001b[0m\u001b[0;34m(\u001b[0m\u001b[0msource_files\u001b[0m\u001b[0;34m,\u001b[0m \u001b[0mfiles_per_strip\u001b[0m\u001b[0;34m,\u001b[0m \u001b[0mss\u001b[0m\u001b[0;34m,\u001b[0m \u001b[0mcci\u001b[0m\u001b[0;34m,\u001b[0m \u001b[0mpixcel_type\u001b[0m\u001b[0;34m,\u001b[0m \u001b[0mshape\u001b[0m\u001b[0;34m)\u001b[0m\u001b[0;34m\u001b[0m\u001b[0m\n\u001b[0;32m----> 4\u001b[0;31m     \u001b[0mstiched_stack\u001b[0m \u001b[0;34m=\u001b[0m \u001b[0mast\u001b[0m\u001b[0;34m.\u001b[0m\u001b[0mstitch_zstack\u001b[0m\u001b[0;34m(\u001b[0m\u001b[0mstiched_stack\u001b[0m\u001b[0;34m,\u001b[0m \u001b[0mstrip\u001b[0m\u001b[0;34m)\u001b[0m\u001b[0;34m\u001b[0m\u001b[0m\n\u001b[0m",
      "\u001b[0;31mNameError\u001b[0m: name 'ast' is not defined"
     ],
     "output_type": "error"
    }
   ],
   "source": [
    "stiched_stack = af.read_strip_files(source_files, files_per_strip, number_of_strips - 1, cci, pixcel_type, shape)\n",
    "for ss in range(number_of_strips - 2, -1, -1):\n",
    "    strip = af.read_strip_files(source_files, files_per_strip, ss, cci, pixcel_type, shape)\n",
    "    stiched_stack = ast.stitch_zstack(stiched_stack, strip)"
   ]
  },
  {
   "cell_type": "markdown",
   "metadata": {},
   "source": [
    "# Displaying results\n",
    "Stiched result image can be ploted using matplotlib."
   ]
  },
  {
   "cell_type": "code",
   "execution_count": null,
   "metadata": {},
   "outputs": [],
   "source": [
    "import matplotlib.pyplot as plt\n",
    "\n",
    "plt.imshow(stiched_stack[256])\n",
    "plt.show()"
   ]
  },
  {
   "cell_type": "code",
   "execution_count": null,
   "metadata": {},
   "outputs": [],
   "source": []
  }
 ],
 "metadata": {
  "kernelspec": {
   "display_name": "venv",
   "language": "python",
   "name": "venv"
  },
  "language_info": {
   "codemirror_mode": {
    "name": "ipython",
    "version": 3
   },
   "file_extension": ".py",
   "mimetype": "text/x-python",
   "name": "python",
   "nbconvert_exporter": "python",
   "pygments_lexer": "ipython3",
   "version": "3.6.0"
  }
 },
 "nbformat": 4,
 "nbformat_minor": 2
}
